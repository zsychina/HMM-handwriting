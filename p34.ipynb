{
 "cells": [
  {
   "cell_type": "markdown",
   "metadata": {},
   "source": [
    "# 基于隐马尔可夫模型的笔势识别"
   ]
  },
  {
   "cell_type": "markdown",
   "metadata": {},
   "source": [
    "3. 为每个元音训练单独的隐马尔可夫模型（每个元音单独聚类，然后分别学习 HMM，输入是与每个 2D 点关联的聚类类别号） 。对于每个测试数据，针对每个 HMM 计算其对数似然，即 log P(O|M)，并获取给出最高对数似然的 HMM 类别，即对测试数据进行分类判别。给出混淆矩阵并描述你的发现。"
   ]
  },
  {
   "cell_type": "code",
   "execution_count": 1,
   "metadata": {},
   "outputs": [
    {
     "name": "stdout",
     "output_type": "stream",
     "text": [
      "ended at round 19\n"
     ]
    }
   ],
   "source": [
    "from data import train_set, val_set, gesture_list\n",
    "from kmeans import clusters, K\n",
    "import matplotlib.pyplot as plt\n",
    "\n",
    "# colors = ['b', 'g', 'r', 'c', 'm']\n",
    "# plt.figure(figsize=(4, 4))\n",
    "# for k in range(5):\n",
    "#     for point in clusters[k]:\n",
    "#         plt.scatter(point[0], point[1], c=colors[k])\n",
    "# plt.show()"
   ]
  },
  {
   "cell_type": "markdown",
   "metadata": {},
   "source": [
    "清洗数据"
   ]
  },
  {
   "cell_type": "code",
   "execution_count": 2,
   "metadata": {},
   "outputs": [],
   "source": [
    "# 为训练集中每个点添加聚类类标号，得到观测o1, o2, ..., on\n",
    "import copy\n",
    "import math\n",
    "\n",
    "# def get_cluster_num(point):\n",
    "#     # 使用k=1的KNN得到某个点的聚类编号\n",
    "#     x = point[0]\n",
    "#     y = point[1]\n",
    "#     for cluster_num in range(len(clusters)):\n",
    "#         for cluster_point in clusters[cluster_num]:\n",
    "#             if cluster_point[0] == x and cluster_point[1] == y:\n",
    "#                 return cluster_num\n",
    "#     return K\n",
    "\n",
    "def get_cluster_num(point):\n",
    "    # 用k=1的KNN得到测试集每个点在Kmeans上的观测值\n",
    "    x = point[0]\n",
    "    y = point[1]\n",
    "    distances_cluster_nums = []\n",
    "    for clsuter_num in range(len(clusters)):\n",
    "        for cluster_point in clusters[clsuter_num]:\n",
    "            distance = math.sqrt(\n",
    "                (cluster_point[0] - x) ** 2 +\n",
    "                (cluster_point[1] - y) ** 2\n",
    "            )\n",
    "            distances_cluster_nums.append((distance, clsuter_num))\n",
    "            \n",
    "    min_distance_cluster_num = min(distances_cluster_nums, key=lambda dis: dis[0])\n",
    "    return min_distance_cluster_num[1]\n",
    "\n",
    "# train_set_with_cluster_num = copy.deepcopy(train_set)\n",
    "# for gesture_name in gesture_list:\n",
    "#     for word_i in range(len(train_set[gesture_name])):\n",
    "#         for point_i in range(len(train_set[gesture_name][word_i])):\n",
    "#             # 找这个点的聚类编号\n",
    "#             point = train_set[gesture_name][word_i][point_i]\n",
    "#             clsuter_num = get_cluster_num(point)\n",
    "#             train_set_with_cluster_num[gesture_name][word_i][point_i] = (point[0], point[1], point[2], clsuter_num)"
   ]
  },
  {
   "cell_type": "code",
   "execution_count": 3,
   "metadata": {},
   "outputs": [],
   "source": [
    "train_obs = {\n",
    "    'a': [], 'e': [], 'i': [], 'o': [], 'u': [],\n",
    "}\n",
    "\n",
    "for gesture_name in gesture_list:\n",
    "    for word in train_set[gesture_name]:\n",
    "        word_obs = []\n",
    "        for word_point in word:\n",
    "            cluster_num = get_cluster_num(word_point)\n",
    "            word_obs.append(cluster_num)\n",
    "        train_obs[gesture_name].append(word_obs)"
   ]
  },
  {
   "cell_type": "code",
   "execution_count": 4,
   "metadata": {},
   "outputs": [],
   "source": [
    "# 都取第10个word\n",
    "# for gesture_name in gesture_list:\n",
    "#     print(f'{gesture_name} 观测序列 {train_obs[gesture_name][9]}')"
   ]
  },
  {
   "cell_type": "code",
   "execution_count": 5,
   "metadata": {},
   "outputs": [],
   "source": [
    "from hmmlearn import hmm\n",
    "import numpy as np\n",
    "\n",
    "model = {}\n",
    "# 隐藏状态数量\n",
    "n_states = 3\n",
    "# 观测状态数量（Kmeans的K值）\n",
    "n_observations = K\n",
    "for gesture_name in gesture_list:\n",
    "    model[gesture_name] = hmm.CategoricalHMM(n_components=n_states, n_iter=100)\n",
    "    model[gesture_name].n_features = n_observations\n",
    "    observations = train_obs[gesture_name]\n",
    "    observations = [np.array(obs).reshape(-1, 1) for obs in observations]\n",
    "    lengths = [obs.shape[0] for obs in observations]\n",
    "    # print(lengths)\n",
    "    model[gesture_name].fit(np.concatenate(observations), lengths)\n",
    "    # print(f'model of {gesture_name}:')\n",
    "    # print(\"估计 pi:\\n\", model[gesture_name].startprob_)\n",
    "    # print(\"估计 A:\\n\", model[gesture_name].transmat_)\n",
    "    # print(\"估计 B:\\n\", model[gesture_name].emissionprob_)\n"
   ]
  },
  {
   "cell_type": "markdown",
   "metadata": {},
   "source": [
    "推理 logP(O|M)"
   ]
  },
  {
   "cell_type": "code",
   "execution_count": 6,
   "metadata": {},
   "outputs": [],
   "source": [
    "val_obs = {\n",
    "    'a': [], 'e': [], 'i': [], 'o':[], 'u':[],\n",
    "}\n",
    "\n",
    "for gesture_name in gesture_list:\n",
    "    for word in val_set[gesture_name]:\n",
    "        word_obs = []\n",
    "        for word_point in word:\n",
    "            cluster_num = get_cluster_num(word_point)\n",
    "            word_obs.append(cluster_num)\n",
    "        val_obs[gesture_name].append(word_obs)"
   ]
  },
  {
   "cell_type": "code",
   "execution_count": 7,
   "metadata": {},
   "outputs": [],
   "source": [
    "stat = {\n",
    "    'a': [], 'e': [], 'i': [], 'o':[], 'u':[],\n",
    "}\n",
    "\n",
    "for gesture_name in gesture_list:\n",
    "    for obs in val_obs[gesture_name]:\n",
    "        obs_seq = np.array(obs).reshape(-1, 1)\n",
    "        log_probs = []\n",
    "        for model_gesture in model:\n",
    "            log_prob = model[model_gesture].score(obs_seq)\n",
    "            log_probs.append((log_prob, model_gesture))\n",
    "            \n",
    "        # 选出概率最大的模型\n",
    "        max_prob_model_gesture = max(log_probs, key=lambda prob_tuple: prob_tuple[0])[1]\n",
    "        stat[gesture_name].append(max_prob_model_gesture)\n",
    "        # print(f'真实{gesture_name}, 推理{max_prob_model_gesture}')"
   ]
  },
  {
   "cell_type": "code",
   "execution_count": 8,
   "metadata": {},
   "outputs": [],
   "source": [
    "confusion_stat = {}\n",
    "record_lengths = {'a': 0, 'e': 0, 'i': 0, 'o': 0, 'u': 0,} # 对于每一个字母测试用例的数量\n",
    "for stat_key in stat:\n",
    "    count = {'a': 0, 'e': 0, 'i': 0, 'o': 0, 'u': 0,}\n",
    "    for record in stat[stat_key]:\n",
    "        count[record] += 1\n",
    "        record_lengths[stat_key] += 1\n",
    "    confusion_stat[stat_key] = count"
   ]
  },
  {
   "cell_type": "code",
   "execution_count": 9,
   "metadata": {},
   "outputs": [
    {
     "data": {
      "text/plain": [
       "{'a': {'a': 0.95, 'e': 0.0, 'i': 0.0, 'o': 0.05, 'u': 0.0},\n",
       " 'e': {'a': 0.0, 'e': 0.95, 'i': 0.0, 'o': 0.05, 'u': 0.0},\n",
       " 'i': {'a': 0.0, 'e': 0.0, 'i': 0.95, 'o': 0.0, 'u': 0.05},\n",
       " 'o': {'a': 0.0, 'e': 0.0, 'i': 0.0, 'o': 1.0, 'u': 0.0},\n",
       " 'u': {'a': 0.0, 'e': 0.0, 'i': 0.0, 'o': 0.0, 'u': 1.0}}"
      ]
     },
     "execution_count": 9,
     "metadata": {},
     "output_type": "execute_result"
    }
   ],
   "source": [
    "import copy\n",
    "\n",
    "confusion_matrix = copy.deepcopy(confusion_stat)\n",
    "for vowel_true in confusion_matrix:\n",
    "    for vowel_infer in confusion_matrix[vowel_true]:\n",
    "        confusion_matrix[vowel_true][vowel_infer] /= record_lengths[vowel_true]\n",
    "\n",
    "confusion_matrix"
   ]
  }
 ],
 "metadata": {
  "kernelspec": {
   "display_name": "ml",
   "language": "python",
   "name": "python3"
  },
  "language_info": {
   "codemirror_mode": {
    "name": "ipython",
    "version": 3
   },
   "file_extension": ".py",
   "mimetype": "text/x-python",
   "name": "python",
   "nbconvert_exporter": "python",
   "pygments_lexer": "ipython3",
   "version": "3.11.4"
  }
 },
 "nbformat": 4,
 "nbformat_minor": 2
}
